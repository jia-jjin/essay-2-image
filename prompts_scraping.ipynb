{
 "cells": [
  {
   "cell_type": "markdown",
   "id": "1b13953b-6518-4519-86c3-ef4e530137ef",
   "metadata": {},
   "source": [
    "# Scraping prompts generated from ordinary sentences "
   ]
  },
  {
   "cell_type": "markdown",
   "id": "cd4fb765-814c-4519-b184-461b6387f71c",
   "metadata": {},
   "source": [
    "This website (https://imageprompt.org/image-prompt-generator) effectively converts normal sentences into extra-detailed and refined text-to-image prompts. What I am going to do here is to input sentences obtained from Kaggle into the website, and wait for it to generate prompts, and then ultimately extract them and save them into a pandas DataFrame."
   ]
  },
  {
   "cell_type": "markdown",
   "id": "4121f229-8c8a-4bf5-8b21-5819cd3d917c",
   "metadata": {},
   "source": [
    "This is the only effective way I have found so far since no other generative models found on HuggingFace are suited for this niche job. "
   ]
  },
  {
   "cell_type": "markdown",
   "id": "6a97d7b8-5582-48cf-9da9-01de7c2859d7",
   "metadata": {},
   "source": [
    "## Importing sentences downloaded from Kaggle"
   ]
  },
  {
   "cell_type": "code",
   "execution_count": 1,
   "id": "234fe9c0-0866-45a0-9ea7-cf36455de2e1",
   "metadata": {},
   "outputs": [],
   "source": [
    "import pandas as pd\n",
    "import numpy as np"
   ]
  },
  {
   "cell_type": "code",
   "execution_count": 2,
   "id": "149164c4-fb3d-476d-b42f-cbe21d3ba100",
   "metadata": {},
   "outputs": [
    {
     "data": {
      "text/html": [
       "<div>\n",
       "<style scoped>\n",
       "    .dataframe tbody tr th:only-of-type {\n",
       "        vertical-align: middle;\n",
       "    }\n",
       "\n",
       "    .dataframe tbody tr th {\n",
       "        vertical-align: top;\n",
       "    }\n",
       "\n",
       "    .dataframe thead th {\n",
       "        text-align: right;\n",
       "    }\n",
       "</style>\n",
       "<table border=\"1\" class=\"dataframe\">\n",
       "  <thead>\n",
       "    <tr style=\"text-align: right;\">\n",
       "      <th></th>\n",
       "      <th>sentence</th>\n",
       "    </tr>\n",
       "  </thead>\n",
       "  <tbody>\n",
       "    <tr>\n",
       "      <th>0</th>\n",
       "      <td>He was accorded a State funeral and was buried...</td>\n",
       "    </tr>\n",
       "    <tr>\n",
       "      <th>1</th>\n",
       "      <td>In American English whilst is considered to be...</td>\n",
       "    </tr>\n",
       "    <tr>\n",
       "      <th>2</th>\n",
       "      <td>Once again she is seen performing on a compute...</td>\n",
       "    </tr>\n",
       "    <tr>\n",
       "      <th>3</th>\n",
       "      <td>Hippety Hopper returns in McKimsons Pop Im Pop.</td>\n",
       "    </tr>\n",
       "    <tr>\n",
       "      <th>4</th>\n",
       "      <td>Today their programs are available on the Inte...</td>\n",
       "    </tr>\n",
       "  </tbody>\n",
       "</table>\n",
       "</div>"
      ],
      "text/plain": [
       "                                            sentence\n",
       "0  He was accorded a State funeral and was buried...\n",
       "1  In American English whilst is considered to be...\n",
       "2  Once again she is seen performing on a compute...\n",
       "3    Hippety Hopper returns in McKimsons Pop Im Pop.\n",
       "4  Today their programs are available on the Inte..."
      ]
     },
     "execution_count": 2,
     "metadata": {},
     "output_type": "execute_result"
    }
   ],
   "source": [
    "df = pd.read_csv(\"data/cv-unique-has-end-punct-sentences.csv\").iloc[:, 1:]\n",
    "df.head()"
   ]
  },
  {
   "cell_type": "code",
   "execution_count": 3,
   "id": "e64c1c8b-73e9-4d1d-926c-7a9db979696a",
   "metadata": {},
   "outputs": [
    {
     "data": {
      "text/plain": [
       "array(['He was accorded a State funeral and was buried in Drayton and Toowoomba Cemetery.',\n",
       "       'In American English whilst is considered to be pretentious or archaic.',\n",
       "       'Once again she is seen performing on a computergenerated stage.',\n",
       "       ..., 'Here his attention was drawn to geology.',\n",
       "       'Every element of Milnor Ktheory can be written as a finite sum of symbols.',\n",
       "       'The south wing contained the owners private apartments.'],\n",
       "      dtype=object)"
      ]
     },
     "execution_count": 3,
     "metadata": {},
     "output_type": "execute_result"
    }
   ],
   "source": [
    "sentences = df.values.flatten()\n",
    "sentences"
   ]
  },
  {
   "cell_type": "markdown",
   "id": "9be27d25-2b85-4b0b-b45b-66ffbfb94e04",
   "metadata": {},
   "source": [
    "## Web scraping"
   ]
  },
  {
   "cell_type": "code",
   "execution_count": 5,
   "id": "0d9919bb-0a86-4132-90bf-35686a2a6cb0",
   "metadata": {},
   "outputs": [],
   "source": [
    "from selenium import webdriver\n",
    "from selenium.webdriver.chrome.service import Service as ChromeService\n",
    "from webdriver_manager.chrome import ChromeDriverManager\n",
    "from selenium.webdriver.common.by import By\n",
    "from selenium.webdriver.support.ui import Select, WebDriverWait\n",
    "from selenium.webdriver.support import expected_conditions as EC\n",
    "import pandas as pd\n",
    "import re\n",
    "from time import sleep\n",
    "from tqdm import tqdm"
   ]
  },
  {
   "cell_type": "code",
   "execution_count": 6,
   "id": "8f134fe6-abe0-43f8-8de5-97d45bd65aa9",
   "metadata": {},
   "outputs": [],
   "source": [
    "results = []"
   ]
  },
  {
   "cell_type": "markdown",
   "id": "96c2ffa5-941a-4d3b-aca4-61907db5ad25",
   "metadata": {},
   "source": [
    "### Initializing Selenium"
   ]
  },
  {
   "cell_type": "code",
   "execution_count": null,
   "id": "ca8c361c-cc75-438d-9911-920c81ce2519",
   "metadata": {},
   "outputs": [],
   "source": [
    "driver = webdriver.Chrome(service=ChromeService(ChromeDriverManager().install()))\n",
    "\n",
    "wait = WebDriverWait(driver, timeout=20)\n",
    "\n",
    "website = 'https://imageprompt.org/image-prompt-generator'\n",
    "driver.get(website)\n",
    "\n",
    "input_box = driver.find_element(By.XPATH,\"//textarea\")\n",
    "enter_button = driver.find_element(By.XPATH, \"//button[contains(@class, 'text-primary') and contains(@class, 'border-primary')]\")\n",
    "input_box.send_keys(\"Hello world\")\n",
    "enter_button.click()\n",
    "\n",
    "wait.until(EC.presence_of_element_located((By.XPATH, \"//span[contains(text(), 'Continue Editing')]\")))\n",
    "\n",
    "continue_editing_button = driver.find_elements(By.XPATH, \"//button[contains(@class, 'text-primary') and contains(@class, 'border-primary')]\")[3]\n",
    "result_box = driver.find_element(By.XPATH, \"//textarea[@placeholder='Your image prompt will show here']\")"
   ]
  },
  {
   "cell_type": "markdown",
   "id": "558fda2c-2e7b-4dd8-8b1b-7094b335eb45",
   "metadata": {},
   "source": [
    "### Loop through all the sentences "
   ]
  },
  {
   "cell_type": "code",
   "execution_count": null,
   "id": "ca1156a9-f9c2-4081-b91c-e7ecd65de2b9",
   "metadata": {},
   "outputs": [],
   "source": [
    "print(\"Input (n): n is by index\")\n",
    "\n",
    "for i in tqdm(range(len(sentences))):\n",
    "    try:\n",
    "        input_box.clear()\n",
    "        input_box.send_keys(sentences[i])\n",
    "    \n",
    "        enter_button.click()\n",
    "    \n",
    "        wait.until(lambda d : continue_editing_button.is_enabled())\n",
    "        results.append(result_box.text)\n",
    "        # print(f\"Generated prompt for sentence {i}\")\n",
    "        \n",
    "    except:\n",
    "        # print(f\"An error occured for sentence {i}! Putting None for now.\") \n",
    "        results.append(None)\n",
    "\n",
    "driver.quit()"
   ]
  },
  {
   "cell_type": "markdown",
   "id": "8e66d24d-2ac4-43e8-8b4d-49b839cc8023",
   "metadata": {},
   "source": [
    "### Saving the refined prompts and the respective sentences into a DataFrame"
   ]
  },
  {
   "cell_type": "code",
   "execution_count": 9,
   "id": "4c4f3b8d-a4bb-42b0-8b0a-c4f28f78572d",
   "metadata": {},
   "outputs": [
    {
     "name": "stderr",
     "output_type": "stream",
     "text": [
      "C:\\Users\\lewjj\\AppData\\Local\\Temp\\ipykernel_10172\\2289747235.py:2: SettingWithCopyWarning: \n",
      "A value is trying to be set on a copy of a slice from a DataFrame.\n",
      "Try using .loc[row_indexer,col_indexer] = value instead\n",
      "\n",
      "See the caveats in the documentation: https://pandas.pydata.org/pandas-docs/stable/user_guide/indexing.html#returning-a-view-versus-a-copy\n",
      "  data['prompts'] = results\n"
     ]
    }
   ],
   "source": [
    "data = df.iloc[:10000, :]\n",
    "data['prompts'] = results\n",
    "data.to_csv(\"training_data.csv\", index=False)"
   ]
  },
  {
   "cell_type": "markdown",
   "id": "a065a989-3b28-4f0c-95d2-d3db3acce820",
   "metadata": {},
   "source": [
    "Please be sure to clean the data afterwards as the odds of getting duplicated response from the website is very high."
   ]
  },
  {
   "cell_type": "code",
   "execution_count": null,
   "id": "739c5dce-47df-41c0-9e54-31d19abddaf2",
   "metadata": {},
   "outputs": [],
   "source": []
  }
 ],
 "metadata": {
  "kernelspec": {
   "display_name": "Python 3 (ipykernel)",
   "language": "python",
   "name": "python3"
  },
  "language_info": {
   "codemirror_mode": {
    "name": "ipython",
    "version": 3
   },
   "file_extension": ".py",
   "mimetype": "text/x-python",
   "name": "python",
   "nbconvert_exporter": "python",
   "pygments_lexer": "ipython3",
   "version": "3.12.7"
  }
 },
 "nbformat": 4,
 "nbformat_minor": 5
}
